{
 "cells": [
  {
   "cell_type": "markdown",
   "metadata": {},
   "source": [
    "# 1. What exactly is the difference between descriptive and inferential statistics? "
   ]
  },
  {
   "cell_type": "markdown",
   "metadata": {},
   "source": [
    "**Descriptive Statistics**\n",
    "- Descriptive statistics deals with analyzing,visualization of the data.\n",
    "- It gives description about the data by measuring different statistics.\n",
    "- It helps to understand the data easily by measuring mean,median,mode,standard deviation,variance,etc.\n",
    "\n",
    "\n",
    "**Inferential Statistics**\n",
    "- In inferential statistics, we make conclusion about the population data by using the sample data.\n",
    "- It allows us to compare data and make predictions.\n",
    "- Example: Hypothesis testing(Z-test, t-test,Annova,Chi-square)"
   ]
  },
  {
   "cell_type": "markdown",
   "metadata": {},
   "source": [
    "# 2. I'm not sure what is the difference between a sample and a population? "
   ]
  },
  {
   "cell_type": "markdown",
   "metadata": {},
   "source": [
    "**Sample**\n",
    "- Sample is a small portion or subset taken from a large population to perform some statistical analysis.\n",
    "- Sample represents whole population.\n",
    "- Measurable quality of sample is called as statistic.\n",
    "\n",
    "**Population**\n",
    "- Population is the entire set of individuals which we want to make conclusions about.\n",
    "- Measurable quality of population is called as parameters."
   ]
  },
  {
   "cell_type": "markdown",
   "metadata": {},
   "source": [
    "# 3. What distinguishes descriptive statistics from other types of statistics?"
   ]
  },
  {
   "cell_type": "markdown",
   "metadata": {},
   "source": [
    "- Descriptive Statistics is used to describe the data.\n",
    "- Descriptive statistics uses various methods to give some basic insights of the dataset.\n",
    "- It gives information about:\n",
    "    - Measure of central tendancy\n",
    "    - Measure of variability\n",
    "    - Distribution of the data\n",
    "- We can analyze, visualize and summarize the dataset by plotting various plots like:\n",
    "    - Bar plots\n",
    "    - Pie charts\n",
    "    - Histograms"
   ]
  },
  {
   "cell_type": "markdown",
   "metadata": {},
   "source": [
    "# 4. What is the difference between quantitative and qualitative data? "
   ]
  },
  {
   "cell_type": "markdown",
   "metadata": {},
   "source": [
    "**Quantitative Data**\n",
    "- Quantitaive data is any data that can be quantified and counted.\n",
    "- Quantitaive data are numerical values which can be easily counted or measured.\n",
    "- There are 2 main types of quantitative data:\n",
    "    1. Discrete Data: It contains fixed numerical value.(Number of people in the room)\n",
    "    2. Continous Data: It can take any value.(Room temperature)\n",
    "- Example:\n",
    "    - Revenue in dollars\n",
    "    - Height\n",
    "    - Weight\n",
    "    - Age\n",
    "    - Length\n",
    "    - Distance\n",
    "    \n",
    "**Qualitative Data**\n",
    "- Qualitative data is not numerical and it is not countable.\n",
    "- Qualitative data is a descriptive and categorical in nature.\n",
    "- There are 2 main types of qualitative data:\n",
    "    1. Ordinal Data: It contains fixed order.(School grades)\n",
    "    2. Nominal Data: It does not contain order.(Gender)\n",
    "- Example:\n",
    "    - Gender of a person(Male or Female)\n",
    "    - School or college grade\n",
    "    - Education"
   ]
  },
  {
   "cell_type": "markdown",
   "metadata": {},
   "source": [
    "# 5. What is the definition of a percentile?\n"
   ]
  },
  {
   "cell_type": "markdown",
   "metadata": {},
   "source": [
    "- Percentile can be defined as the value below which a percentage of data falls.\n",
    "- For example: If we are given 80 percentile, that means 80% of the values are below this percentile and remaning 20% values are above this percentile."
   ]
  },
  {
   "cell_type": "code",
   "execution_count": null,
   "metadata": {},
   "outputs": [],
   "source": []
  }
 ],
 "metadata": {
  "kernelspec": {
   "display_name": "Python 3",
   "language": "python",
   "name": "python3"
  },
  "language_info": {
   "codemirror_mode": {
    "name": "ipython",
    "version": 3
   },
   "file_extension": ".py",
   "mimetype": "text/x-python",
   "name": "python",
   "nbconvert_exporter": "python",
   "pygments_lexer": "ipython3",
   "version": "3.8.5"
  }
 },
 "nbformat": 4,
 "nbformat_minor": 4
}
