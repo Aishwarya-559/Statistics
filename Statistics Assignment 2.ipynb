{
 "cells": [
  {
   "cell_type": "markdown",
   "metadata": {},
   "source": [
    "# 1. How can we figure out what the interquartile range is? "
   ]
  },
  {
   "cell_type": "markdown",
   "metadata": {},
   "source": [
    "- Interquartile range tells us the spread of middle half of your distribution.\n",
    "- Range gives us the spread of the whole dataset. i.e. It gives the first and the last value present in the dataset.\n",
    "- Interquartile range can be calculated by the following formula: **IQR = Q3-Q1**\n",
    "\n",
    "- Where, \n",
    "- IQR =Interquartile Range\n",
    "- Q3 = 3rd quartile or 75th percentile\n",
    "- Q1 = 1st quartile or 25th percentile"
   ]
  },
  {
   "cell_type": "markdown",
   "metadata": {},
   "source": [
    "# 2. What exactly is the value of the 5-number theory? \n"
   ]
  },
  {
   "cell_type": "markdown",
   "metadata": {},
   "source": [
    "**5 NUMBER SUMMARY**\n",
    "- 5 number summary is a descriptive statistics which gives preliminary some information about the dataset.\n",
    "- 5 Number summary is as:\n",
    "    - Minimum value\n",
    "    - Q1 or first quartile\n",
    "    - Q2 or median\n",
    "    - Q3 or third quartile\n",
    "    - Maximum value\n",
    "    \n",
    "**So in 5 number summary, the 5th value represents the maximum value present in the data.**"
   ]
  },
  {
   "cell_type": "markdown",
   "metadata": {},
   "source": [
    "# 3. What is the relationship between standard deviation and variance?"
   ]
  },
  {
   "attachments": {
    "image-2.png": {
     "image/png": "[encoded data removed]"
    },
    "image.png": {
     "image/png": "[encoded data removed]"
    }
   },
   "cell_type": "markdown",
   "metadata": {},
   "source": [
    "- Variance represents the average squared deviations from the mean value of data.\n",
    "- Formula for sample variance:\n",
    "![image.png](attachment:image.png)\n",
    "- Standard deviation represents the square root variance.\n",
    "- Formula for sample standard deviation:\n",
    "![image-2.png](attachment:image-2.png)\n",
    "\n",
    "**The variance is equal to the square  of standard deviation.**"
   ]
  },
  {
   "cell_type": "markdown",
   "metadata": {},
   "source": [
    "# 4. What does the difference between variance and standard deviation mean?"
   ]
  },
  {
   "cell_type": "markdown",
   "metadata": {},
   "source": [
    "- Standard deviation tells us about the spread of the data.\n",
    "- Variance represents the average squared deviations from the mean value of data.\n",
    "\n",
    "- Difference between these two is, standard deviation is the square root of variance."
   ]
  },
  {
   "cell_type": "markdown",
   "metadata": {},
   "source": [
    "#  5. When is it appropriate to refer to a skewed data distribution?"
   ]
  },
  {
   "cell_type": "markdown",
   "metadata": {},
   "source": [
    "- Skewed data refers to asymmetrical data.\n",
    "- There are 2 types of skewness:\n",
    "    - Right skewness: When the distribution has long tail at right end, it is called as right skewed or positively skewed. It tells that large amount of data lies in that tail region.\n",
    "    - Left skewness: When the distribution has long tail at left end, it is called as left skewed or negatively skewed. It tells that large amount of data lies in that tail region.\n",
    "\n",
    "- Importance of skewness: Skewness helps us to identify the direction of the outliers. If it is right skewed, most outliers will be in that region.If it is left skewed, most outliers will be in the left region.\n",
    "- So, we can refer to skewness to find the direction of the outliers."
   ]
  },
  {
   "cell_type": "code",
   "execution_count": null,
   "metadata": {},
   "outputs": [],
   "source": []
  }
 ],
 "metadata": {
  "kernelspec": {
   "display_name": "Python 3",
   "language": "python",
   "name": "python3"
  },
  "language_info": {
   "codemirror_mode": {
    "name": "ipython",
    "version": 3
   },
   "file_extension": ".py",
   "mimetype": "text/x-python",
   "name": "python",
   "nbconvert_exporter": "python",
   "pygments_lexer": "ipython3",
   "version": "3.8.5"
  }
 },
 "nbformat": 4,
 "nbformat_minor": 4
}
