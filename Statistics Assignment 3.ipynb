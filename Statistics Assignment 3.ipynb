{
 "cells": [
  {
   "cell_type": "markdown",
   "metadata": {},
   "source": [
    "# 1. Write the Gaussian Distribution empirical formula."
   ]
  },
  {
   "cell_type": "markdown",
   "metadata": {},
   "source": [
    "- Gaussian distribution or normal distribution is the probability distribution of the data.\n",
    "- Gaussian distribution follows bell curve shape and it is symmetrical.\n",
    "- Empirical formula for gaussian distribution is:\n",
    "    - 68 % of the data will be present between first standard deviation.\n",
    "    - 95 % of the data will be present between second standard deviation.\n",
    "    - 99.7 % of the data will be present between third standard deviation."
   ]
  },
  {
   "cell_type": "markdown",
   "metadata": {},
   "source": [
    "# 2. What is the Z-score, and why is it important?"
   ]
  },
  {
   "cell_type": "markdown",
   "metadata": {},
   "source": [
    "- Z score or standard score tells us about how far a data point is from its mean in the distribution.\n",
    "- More precisely, it is used to know how many standard deviation far is a data point present in the distribution.\n",
    "- Z score is calculated by the formula: z = (X – μ) / σ\n",
    "\n",
    "**Importance of Z score**\n",
    "\n",
    "- Z score not only tells us about the value itself but also gives information about where the value exactly lies in the distribution.\n",
    "- If the z score < 0, it means that the value is greater than the mean of the distribution and vice versa."
   ]
  },
  {
   "cell_type": "markdown",
   "metadata": {},
   "source": [
    "# 3. What is an outlier, exactly?"
   ]
  },
  {
   "cell_type": "markdown",
   "metadata": {},
   "source": [
    "- Outlier are the data points which are far away from the majority of the data.\n",
    "- They are extremely low or hight points and that stand out greatly from the overall pattern of values in a dataset or graph.\n",
    "- Outliers can be important in some cases.\n",
    "- Handeling these outliers is a very important task as they can impact the model overall performance."
   ]
  },
  {
   "cell_type": "markdown",
   "metadata": {},
   "source": [
    "# 4. What are our options for dealing with outliers in our dataset?"
   ]
  },
  {
   "cell_type": "markdown",
   "metadata": {},
   "source": [
    "- Outliers can be removed in multiple ways.These are as follows:\n",
    "    - IQR method\n",
    "    - Z test\n",
    "    - Boxplot\n",
    "    - L1 norm method\n",
    "    - Directly dropping all the outliers."
   ]
  },
  {
   "cell_type": "markdown",
   "metadata": {},
   "source": [
    "# 5. Write the sample and population variances equations and explain Bessel Correction."
   ]
  },
  {
   "cell_type": "markdown",
   "metadata": {},
   "source": [
    "- Variance is the measure of dispersion. It tells you the degree of spread of the data.\n",
    "- Sample Variance formula: s² = Σ( x - x̄ )² / n-1\n",
    "\n",
    "- Population variance formula: s = Σ( x - μ )² /N\n",
    "\n",
    "**Bessel's Correction**\n",
    "- This uses n-1 instead of n in sample variance and sample standard deviation, where n is the number of data points.\n",
    "- Using n-1 in denominator for sample variance and sample standard deviation reduces the bias in the estimation of population variance and population standard deviation."
   ]
  },
  {
   "cell_type": "code",
   "execution_count": null,
   "metadata": {},
   "outputs": [],
   "source": []
  }
 ],
 "metadata": {
  "kernelspec": {
   "display_name": "Python 3",
   "language": "python",
   "name": "python3"
  },
  "language_info": {
   "codemirror_mode": {
    "name": "ipython",
    "version": 3
   },
   "file_extension": ".py",
   "mimetype": "text/x-python",
   "name": "python",
   "nbconvert_exporter": "python",
   "pygments_lexer": "ipython3",
   "version": "3.8.5"
  }
 },
 "nbformat": 4,
 "nbformat_minor": 4
}
