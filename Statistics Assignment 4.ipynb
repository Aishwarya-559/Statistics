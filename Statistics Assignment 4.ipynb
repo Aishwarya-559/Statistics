{
 "cells": [
  {
   "cell_type": "markdown",
   "metadata": {},
   "source": [
    "# 1. What is the definition of covariance? Create the formula for it."
   ]
  },
  {
   "cell_type": "markdown",
   "metadata": {},
   "source": [
    "- Covariance tells us the relationship between 2 variables or features.\n",
    "- Covarinace tells us the direction of the relationship between 2 variables.\n",
    "- It takes value from +infinity to -infinity.\n",
    "- If the covariance value is positive that means the 2 variables are positively correlated(if x increase y also increases.)\n",
    "- If the covariance value is negative that means the 2 variables are negatively correlated(if x increases y decreases.)\n",
    "- Formula for covariance:\n",
    "    - Population covariance: Cov(x,y) = Σ (x - x̄)*(y - ȳ)/N\n",
    "    - Sample covariance: Cov(x,y) = Σ (x - x̄)*(y - ȳ)/n-1\n",
    "    - where,\n",
    "        - x = data point\n",
    "        - x̄ = Mean of x\n",
    "        - y = data point\n",
    "        - ȳ = Mean of y\n",
    "        - N = sample size\n",
    "    \n",
    "- As we know that the variance formula is:\n",
    "- Sample Variance formula: s² = Σ( x - x̄ )² / n-1\n",
    "\n",
    "- Population variance formula: s = Σ( x - μ )² /N\n",
    "\n",
    "-  If we write variance formula like:s² = Σ( x - x̄ )*( x - x̄ ) / n-1\n",
    "- Above variance formula is identical to covariance formula. So we can also write like:\n",
    "- Variance == Cov(x,x)"
   ]
  },
  {
   "cell_type": "markdown",
   "metadata": {},
   "source": [
    "# 2. What makes Correlations better than Covariance?"
   ]
  },
  {
   "cell_type": "markdown",
   "metadata": {},
   "source": [
    "- Covariance tells us the direction of the relationship between 2 variables and it takes value from +infinity to -infinity.\n",
    "- Just calculating the covariance would not be sufficient because it will only tell us that whether the variables are positively correlated or negatively correlated. Covariance does not give us information about how much correlation is there between x and y. So to get that information we use Correlation.\n",
    "\n",
    "- Correlation helps us to find the direction as well as strength of the relationship between 2 variables.\n",
    "- Advantages of correlation over covariance are:\n",
    "    - Correlation will always have value between -1 to +1, so it's easy to interpret the results.\n",
    "    - Correlation will tell us how much 2 variables are correlated to each other. for example,\n",
    "        if correlation is +0.90, it means that those 2 variables are 90% correlated to each other positively.\n",
    "- Correlation formula:\n",
    "    - Correlation = Covariance(x,y)/σx*σy\n",
    "    - where,\n",
    "        - σx = standard deviation of x\n",
    "        - σy = standard deviation of y"
   ]
  },
  {
   "cell_type": "markdown",
   "metadata": {},
   "source": [
    "# 3. Explain the process as well as Pearson and Spearman Correlation."
   ]
  },
  {
   "attachments": {
    "image-2.png": {
     "image/png": "[encoded data removed]"
    },
    "image-3.png": {
     "image/png": "[encoded data removed]"
    },
    "image.png": {
     "image/png": "[encoded data removed]"
    }
   },
   "cell_type": "markdown",
   "metadata": {},
   "source": [
    "**Pearson Correlation**\n",
    "- Pearson correlation coefficient is the covariance(x,y) divided by product of standard deviation of(x,y).\n",
    "- Pearson correlation tells us about the direction and strength of the relationship between 2 variables.\n",
    "- As we divide the covariance of x and y by the product of stanadard deviation of x and y, we get the standardized correlation value which is in the range of -1 to +1.\n",
    "- Population correlation is calculated by:\n",
    "    - ![image.png](attachment:image.png)\n",
    "- Sample correlation is calculated by:\n",
    "    - ![image-2.png](attachment:image-2.png)\n",
    "    \n",
    "**Spearman Correlation**\n",
    "- The Spearman correlation between two variables is equal to the Pearson correlation between the rank values of those two variables.\n",
    "- Pearson's correlation shows linear relationships, while Spearman's correlation shows monotonic relationships(whether linear or not). So if the distribution is non linear we can use spearman correlation to see the relationship between 2 variables.\n",
    "- We can use spearman correlation for both continous as well as discrete ordinal variables.\n",
    "- Formula for spearman correlation:\n",
    "    - ![image-3.png](attachment:image-3.png)\n",
    "- Steps to follow to while calculating spearman correlation:\n",
    "    1. Sort the values of x in ascending order and create a new column named xi.\n",
    "    2. Sort the values of y in ascending order and create a new column named yi.\n",
    "    3. Create the another column named d. This column will have values which are the difference between xi and yi.\n",
    "    4. Create another column named d². This column will hold the squared values from d column.\n",
    "    5. Add the a values of d² and substitute it in the original equation."
   ]
  },
  {
   "cell_type": "markdown",
   "metadata": {},
   "source": [
    "# 4. What are the advantages of Spearman Correlation over Pearson Correlation?"
   ]
  },
  {
   "cell_type": "markdown",
   "metadata": {},
   "source": [
    "- Advantages of Spearman correlation over Pearson correlation:\n",
    "    1. If the data does not follow the straight line, Spearman correlation is preffered because, Pearson correlation can be used only for linear data.\n",
    "    2. We cannot use pearson correlation for curvilinear data. For that we have spearman correlation as it gives best results for curvilinear data.\n",
    "    3. If the data is continous and monotonic or ordinal in nature we can use Spearman's correlation to calculate the relationship between 2 variables.\n",
    "    4. In a monotonic relationship, as one variable increases, the other variable tends to either increase or decrease, but not necessarily in a straight line. This aspect of Spearman’s correlation allows you to fit curvilinear relationships.\n",
    "    5. If the data is ordinal type, spearman correlation gives best results as compared to pearson."
   ]
  },
  {
   "cell_type": "markdown",
   "metadata": {},
   "source": [
    "# 5. Describe the Central Limit Theorem."
   ]
  },
  {
   "cell_type": "markdown",
   "metadata": {},
   "source": [
    "- Central limit theorem states that if we take few samples from the population and calculate their individual mean, the sampling distribution of these sample mean will follow normal distribution as the sample size increases, no matter what is distribution of population.\n",
    "- The minimum sample size should be 30. To apply central limit theorem, sample size should be > 30.\n",
    "- Application of CLT:\n",
    "    - If the distribution of the data is not known or if it does not follow normal distribution, we can consider CLT.\n",
    "    - To estimate population mean accurately.\n",
    "    - CLT is also used to election polls.\n",
    "    - Biologists use CLT whenever they use data from sample of organisms to draw conclusion about the population.\n",
    "    - Manufacturing plants uses CLT to estimate how many products produced by them are defective."
   ]
  },
  {
   "cell_type": "code",
   "execution_count": null,
   "metadata": {},
   "outputs": [],
   "source": []
  }
 ],
 "metadata": {
  "kernelspec": {
   "display_name": "Python 3",
   "language": "python",
   "name": "python3"
  },
  "language_info": {
   "codemirror_mode": {
    "name": "ipython",
    "version": 3
   },
   "file_extension": ".py",
   "mimetype": "text/x-python",
   "name": "python",
   "nbconvert_exporter": "python",
   "pygments_lexer": "ipython3",
   "version": "3.8.5"
  }
 },
 "nbformat": 4,
 "nbformat_minor": 4
}
