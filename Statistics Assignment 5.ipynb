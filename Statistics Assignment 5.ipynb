{
 "cells": [
  {
   "cell_type": "markdown",
   "metadata": {},
   "source": [
    "# 1. How are you going to figure out the average heights of all the trees in Karnataka?"
   ]
  },
  {
   "cell_type": "markdown",
   "metadata": {},
   "source": [
    "- It will be very time consuming and tedious task if we go and start measuring height of each and every tree in Karnataka.\n",
    "- The best way to calculate average height of trees is to take samples of trees and then measure the height of them.\n",
    "- We can also use Central limit theorem to calculate the average height of all trees in Karnataka.\n",
    "- As CLT states that, if we take sample (n>30), then the distribution of mean of these sample will follow normal distribution as the sample size increases. So if we take more sample we'll be able to get approximate mean of population.\n"
   ]
  },
  {
   "cell_type": "markdown",
   "metadata": {},
   "source": [
    "# 2. What is hypothesis testing and how does it work?"
   ]
  },
  {
   "cell_type": "markdown",
   "metadata": {},
   "source": [
    "- Hypothesis testing is part of inferential statistics.\n",
    "- It uses data from sample to draw various conclusions about population parameter or population probability distribution.\n",
    "\n",
    "**How does it work?**\n",
    "- Hypothesis testing involves following steps:\n",
    "    1. Start with specifying Null and Alternative hypothesis.\n",
    "        - Null hypothesis states that there is no difference between sample statistic and population paramater\n",
    "        - Alternative hypothesis states that there is significant difference between sample statistic and population parameter.\n",
    "    2. Set the level of significance(α).\n",
    "        - Significance level or α indicates the probability of rejecting null hypothesis when it is actually true.\n",
    "        - So, if we consider 0.05 or 5% significance level, it says that there is 5% chance of concluding that there is significant difference between sample statistic and population parameter, when there is no actual difference between them.\n",
    "    3. Calculate the test statistic and p-value by using the hypothesis test which will be suitable for our data.\n",
    "        - p value indicates the probability that an observed difference could have occured just by random chance.\n",
    "    4. Calculate using different statistical tests.\n",
    "    5. Make conclusion.\n",
    "        - Reject or accept the null hypothesis.\n",
    "        \n",
    "**Types of Hypothesis tests**\n",
    "1. Z test\n",
    "2. T test\n",
    "3. Anova test\n",
    "4. Chi square test\n",
    "5. Friedman test\n",
    "    "
   ]
  },
  {
   "cell_type": "markdown",
   "metadata": {},
   "source": [
    "# 3. Explain the differences between Alpha and Beta errors. Which inaccuracy is the most hazardous?"
   ]
  },
  {
   "cell_type": "markdown",
   "metadata": {},
   "source": [
    "- In hypothesis testing we make 2 hyposthesis statements:\n",
    "    - Null hypothesis(There is no significant difference between 2 samples).\n",
    "    - Alternate hypothesis(There is a significant difference between 2 samples).\n",
    "  \n",
    "- When we start with hypothesis testing, we assume that null hypothesis is true.\n",
    "**Errors in hypothesis testing**\n",
    "- For example we have problem statement and we have to see whether the new drug can reduce symptoms or not. For this statement, the null hypothesis would be there is no effect of drug and the alternate hypothesis would be there is effect of drug.\n",
    "- When we perform hypothesis testing, we tend to make some wrong decisions about the null hypothesis due to some factors.\n",
    "- There are 2 types of error which we might make while performing hypothesis testing:\n",
    "    1. Type I (α)\n",
    "        - Type I error is made when we reject null hypothesis when it is actually true. i.e. When we conclude that the drug has an effect when it actually does not have.(False positive).\n",
    "    2. Type II (β)\n",
    "        - Type II error is made when we fail to reject null hypothesis when it is not true. i.e. We conclude that the drug does not have any effect when it actually has a good effect.(False negative).\n",
    "        \n",
    "**Which error is more hazardous?**\n",
    "- Answer to this question is \"It depends\".\n",
    "- It depends on the problem statement. There is no fixed rule to decide whether Type I is more hazardous or Type II is more hazardous.\n",
    "- When we want to decide which error is more hazardous, we should think about the consequences of both errors.\n",
    "- In the above example of drug, if we make Type I error the consequence would be, the drug will be taken by millions of people and it might be harmful for them as it does not have any effect but people are consuming it, and if we make Type II error, people will not get correct drug for them when it actually has a good effect.\n",
    "***The importance of Type I and Type II depends on the problem statement**"
   ]
  },
  {
   "cell_type": "markdown",
   "metadata": {},
   "source": [
    "# 4. What is the significance of the p-value?"
   ]
  },
  {
   "cell_type": "markdown",
   "metadata": {},
   "source": [
    "- We need to set a p-value while performing any hypothesis testing.\n",
    "- p-value indicates the probability of occuring a observed difference between 2 sample and whether they have occured just by a random chance or due to random sample error.\n",
    "- p-value is used to decide whether we should reject the null hypothesis or not.\n",
    "- If the p-value is lower than the significance level, we reject the null hypothesis.\n",
    "- If the p value is higher than the significance level, we accept the null hypothesis."
   ]
  },
  {
   "cell_type": "markdown",
   "metadata": {},
   "source": [
    "# 5. What is the Probability Distribution Function and how does it work?"
   ]
  },
  {
   "cell_type": "markdown",
   "metadata": {},
   "source": [
    "- The distribution function indicates probability of different possible outcomes for an event.\n",
    "- There are various types of distirbution and they are based on type of the data.\n",
    "- As we have 2 main types, i.e, Quantitative and Qualitative and for quantitative we have continous and discrete data.\n",
    "- We have different distribution for continous and discrete data types.\n",
    "- PDF describes the probability distribution for contious random variable.\n",
    "- PMF describes the probability distribution for discrete random variable.\n",
    "***There are various distributions for different data types:***\n",
    "- For continous data:\n",
    "    1. Normal distribution\n",
    "    2. Standard normal distribution\n",
    "    3. Student's T distribution\n",
    "    4. Chi-squared distribution\n",
    "- For discrete data:\n",
    "    1. Uniform distribution\n",
    "    2. Binomial distribution\n",
    "    3. Bernoulli distribution\n",
    "    4. Poisson distribution.\n",
    "\n",
    "\n",
    "- A probability distribution is a statistical function that describes all the possible values and likelihoods that a random variable can take within a given range. This range will be bounded between the minimum and maximum possible values, but precisely where the possible value is likely to be plotted on the probability distribution depends on a number of factors. These factors include the distribution's mean (average), standard deviation, skewness, and kurtosis."
   ]
  },
  {
   "cell_type": "code",
   "execution_count": null,
   "metadata": {},
   "outputs": [],
   "source": []
  }
 ],
 "metadata": {
  "kernelspec": {
   "display_name": "Python 3",
   "language": "python",
   "name": "python3"
  },
  "language_info": {
   "codemirror_mode": {
    "name": "ipython",
    "version": 3
   },
   "file_extension": ".py",
   "mimetype": "text/x-python",
   "name": "python",
   "nbconvert_exporter": "python",
   "pygments_lexer": "ipython3",
   "version": "3.8.5"
  }
 },
 "nbformat": 4,
 "nbformat_minor": 4
}
